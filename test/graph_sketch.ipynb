{
 "cells": [
  {
   "cell_type": "code",
   "execution_count": 1,
   "id": "5001aebd",
   "metadata": {},
   "outputs": [],
   "source": [
    "#from langgraph.graph import StateGraph,START,END\n",
    "from typing import TypedDict,Literal#,Optional,Any #Annotated\n",
    "#from pydantic import BaseModel,Field\n",
    "\n",
    "from langchain.tools import BaseTool\n",
    "from langchain_ollama import ChatOllama\n",
    "from langchain_groq import ChatGroq\n",
    "from langchain_core.messages import AIMessage,SystemMessage,HumanMessage,ToolMessage,BaseMessage#FunctionMessage\n",
    "#from langchain.prompts import MessagesPlaceholder\n",
    "\n",
    "import subprocess\n",
    "import os\n",
    "import locale\n",
    "import platform"
   ]
  },
  {
   "cell_type": "code",
   "execution_count": null,
   "id": "62c5fc47",
   "metadata": {},
   "outputs": [],
   "source": []
  },
  {
   "cell_type": "code",
   "execution_count": 2,
   "id": "e6902d2e",
   "metadata": {},
   "outputs": [
    {
     "data": {
      "text/plain": [
       "True"
      ]
     },
     "execution_count": 2,
     "metadata": {},
     "output_type": "execute_result"
    }
   ],
   "source": [
    "from dotenv import load_dotenv\n",
    "load_dotenv('C:/env/.env')"
   ]
  },
  {
   "cell_type": "code",
   "execution_count": 2,
   "id": "1841269c",
   "metadata": {},
   "outputs": [],
   "source": [
    "def get_sys_info():\n",
    "    sys_info = (\n",
    "        \"###Basic user system information:\\n\"\n",
    "        f\"Username: {os.getlogin()}\\n\"\n",
    "        f\"Language: {locale.getlocale()[0]} (some outputs may use this language but answer always in english)\\n\"\n",
    "        f\"Operational system: {platform.system()} {platform.architecture()[0]}\\n\"\n",
    "        f\"Terminal: {os.getenv('COMSPEC') if os.name == 'nt' else os.getenv('SHELL')}\\n\"\n",
    "        f\"You are in the directory: {os.path.abspath('./')} (you can use cd commands to change it)\"\n",
    "        ).replace('\\\\','\\\\\\\\')\n",
    "    return sys_info"
   ]
  },
  {
   "cell_type": "code",
   "execution_count": 3,
   "id": "757d9228",
   "metadata": {},
   "outputs": [],
   "source": [
    "def print_msgs(msgs):\n",
    "    for msg in msgs: msg.pretty_print()"
   ]
  },
  {
   "cell_type": "code",
   "execution_count": null,
   "id": "6196b858",
   "metadata": {},
   "outputs": [],
   "source": [
    "class CMDExecTool(BaseTool):\n",
    "    name: str = 'cmd_exec_tool'\n",
    "    description: str = ('Execute a CMD prompt command and return the output.\\n'\n",
    "    'Args:\\n'\n",
    "    'cmd: prompt command string to be executed, make sure to include only the commands with correct syntax.')\n",
    "    request_confirmation: bool = True\n",
    "\n",
    "    def _run(self, cmd:str):\n",
    "        cmd_split = cmd.split()\n",
    "        b_change_dir = False\n",
    "        if cmd_split[0].lower() == 'cd' and len(cmd_split) == 2:\n",
    "            cmd = cmd + \" && cd\"\n",
    "            b_change_dir = True\n",
    "\n",
    "        if self.request_confirmation and input(f'Execute command: {cmd}? (y/n)') != 'y':\n",
    "            return 'canceled by the user'\n",
    "        \n",
    "        prompt_result = subprocess.run(cmd, shell=True, capture_output=True,encoding='utf-8',errors='ignore')\n",
    "        output = prompt_result.stdout.strip() if prompt_result.returncode == 0 else prompt_result.stderr.strip()\n",
    "\n",
    "        if b_change_dir and prompt_result.returncode == 0:\n",
    "            try:\n",
    "                os.chdir(output)\n",
    "            except Exception as e:\n",
    "                output = 'error: ' + str(e)\n",
    "        \n",
    "        if len(output) > 0 and prompt_result.returncode != 0:\n",
    "            output = f'Error: {output}'\n",
    "        if len(output) == 0:\n",
    "            output = 'success' if prompt_result.returncode == 0 else 'error'\n",
    "\n",
    "        return output\n",
    "    \n",
    "\n",
    "        \n",
    "class AskUserTool(BaseTool):\n",
    "    name: str = 'ask_user_tool'\n",
    "    description: str = (\n",
    "    'Ask the user for information\\n'\n",
    "    #'Ask the user for preference information or perform necessary tasks.\\n'\n",
    "    #'Usefull to ask relevant information that the user may not included in the input or to ask the user to perform a task.\\n'\n",
    "    #'Avoid asking the user if you can do it by yourself.\\n'\n",
    "    'Args:\\n'\n",
    "    'question: question string to be asked to the user.')\n",
    "\n",
    "    def _run(self, question):\n",
    "        return input(question)\n",
    "        #return f\"Question: {question}\\nAnswer: {answer}\"\n",
    "\n",
    "class RunPythonCodeTool(BaseTool):\n",
    "    name: str = 'run_python_code_tool'\n",
    "    description: str = ('Execute python code.\\n'\n",
    "    'Usefull to execute actions in the user computer or get relevant information.\\n'\n",
    "    \"If any information should be returned as output, the return value should be stored in a global variable called 'return_value'\\n\"\n",
    "    \"Avoid using ; for formatting, instead use \\\\t and \\\\n\\n\"\n",
    "    \"Here is a simple format example using return_value:\\n\"\n",
    "    \"def sum(x,y):\\n\"\n",
    "    \"\\treturn x+y\\n\"\n",
    "    \"return_value=sum(3,5)\\n\"\n",
    "    'Args:\\n'\n",
    "    'code: python code string, make sure to include only the code with the correct syntax.\\n'\n",
    "    )\n",
    "    request_confirmation: bool = True\n",
    "\n",
    "    def _run(self,python_code:str):\n",
    "        if self.request_confirmation and input('Run code:\\n'+python_code) != 'y':\n",
    "            return None\n",
    "        locals_dict = {'return_value': None} #locals()\n",
    "        try:\n",
    "            exec(python_code,{},locals_dict)\n",
    "            if locals_dict['return_value'] is None:\n",
    "                locals_dict['return_value'] = 'Success'\n",
    "        except Exception as e:\n",
    "            locals_dict['return_value'] = 'Error: '+ str(e)\n",
    "\n",
    "        return str( locals_dict['return_value'] )\n",
    "\n",
    "cmd_exec_tool = CMDExecTool(request_confirmation=True)\n",
    "ask_user_tool = AskUserTool()\n",
    "run_python_code_tool = RunPythonCodeTool(request_confirmation=True)\n",
    "tools = [cmd_exec_tool,ask_user_tool,run_python_code_tool]\n",
    "tools_dict = {'cmd_exec_tool':cmd_exec_tool,'ask_user_tool':ask_user_tool,'run_python_code_tool':run_python_code_tool}"
   ]
  },
  {
   "cell_type": "code",
   "execution_count": 14,
   "id": "60e0c510",
   "metadata": {},
   "outputs": [
    {
     "name": "stdout",
     "output_type": "stream",
     "text": [
      "Ask the user for preference information or perform necessary tasks.\n",
      "Usefull to ask relevant information that the user may not included in the input or to ask the user to perform a task.\n",
      "Args:\n",
      "question: question string to be asked to the user.\n"
     ]
    }
   ],
   "source": [
    "print(ask_user_tool.description)"
   ]
  },
  {
   "cell_type": "code",
   "execution_count": 30,
   "id": "b7ba32bb",
   "metadata": {},
   "outputs": [],
   "source": [
    "class State(TypedDict):\n",
    "    user_input:str\n",
    "    agent_response: AIMessage\n",
    "    scratchpad:list[BaseMessage]\n",
    "    final_answer:str\n",
    "\n",
    "def get_initial_state(user_input):\n",
    "    return State({'user_input':user_input,'scratchpad':[],'agent_response':None,'final_answer':None})\n",
    "\n",
    "#llm = ChatGroq(model='llama-3.3-70b-versatile') # qwen/qwen3-32b\n",
    "llm = ChatOllama(base_url='localhost:11434',model='qwen3:8b',reasoning=False) # qwen3:8b llama3.2:3b\n",
    "llm_agent=llm.bind_tools(tools)"
   ]
  },
  {
   "cell_type": "code",
   "execution_count": null,
   "id": "e699f308",
   "metadata": {},
   "outputs": [],
   "source": []
  },
  {
   "cell_type": "code",
   "execution_count": 31,
   "id": "18151045",
   "metadata": {},
   "outputs": [],
   "source": [
    "# def agent_node(state:State):\n",
    "#     prompt_str = (\n",
    "#     'You are an agent that solves user computer problems\\n'\n",
    "#     '{sys_info}\\n\\n'\n",
    "#     'You must work in a loop where every iteration you will receive the output of the previous iteration.\\n'\n",
    "#     'Once the problem is solved do not pick any tool, instead just give a final answer.\\n\\n'\n",
    "\n",
    "#     '###Problem to solve\\n{problem}\\n\\n'\n",
    "\n",
    "#     \"### Input and output of the previous iterations\\n\\n\"\n",
    "#     '{scratchpad}'\n",
    "#     ).format(\n",
    "#         sys_info=get_sys_info(),\n",
    "#         problem=state['user_input'],\n",
    "#         scratchpad=state['scratchpad'])\n",
    "    \n",
    "#     response = llm_agent.invoke(prompt_str)\n",
    "#     return response,prompt_str\n",
    "\n",
    "def agent_node(state:State):\n",
    "    system_message = (\n",
    "        'You are an agent that solves user computer problems\\n'\n",
    "        f'{get_sys_info()}\\n\\n'\n",
    "        'You must work in a loop where every iteration you will receive the output of the previous iteration.\\n'\n",
    "        # 'Each iteration is sctructured as:\\n'\n",
    "        # 'Action: tool name picked\\n' \\\n",
    "        # 'Action Input: the tool input you chosed\\n'\n",
    "        # 'Action Output: The output of the tool\\n' \\\n",
    "        'You should use this iterations history to pick your next action\\n'\n",
    "        'Once the problem is solved or failed after many attempts do not pick any tool, instead just give a final answer.'\n",
    "    )\n",
    "    messages = [\n",
    "        SystemMessage(system_message),\n",
    "        HumanMessage(state['user_input']),\n",
    "        *state['scratchpad']\n",
    "    ]\n",
    "    \n",
    "    response = llm_agent.invoke(messages)\n",
    "    return response,messages"
   ]
  },
  {
   "cell_type": "code",
   "execution_count": 32,
   "id": "c7fefc7f",
   "metadata": {},
   "outputs": [],
   "source": [
    "state_ = get_initial_state(user_input='Create a folder in my desktop')"
   ]
  },
  {
   "cell_type": "code",
   "execution_count": 78,
   "id": "f52d75b3",
   "metadata": {},
   "outputs": [],
   "source": [
    "res,prompt=agent_node(state_)"
   ]
  },
  {
   "cell_type": "code",
   "execution_count": 79,
   "id": "c3708cb5",
   "metadata": {},
   "outputs": [
    {
     "data": {
      "text/plain": [
       "AIMessage(content='', additional_kwargs={}, response_metadata={'model': 'qwen3:8b', 'created_at': '2025-09-19T13:01:18.9720419Z', 'done': True, 'done_reason': 'stop', 'total_duration': 2887532200, 'load_duration': 212389800, 'prompt_eval_count': 601, 'prompt_eval_duration': 752700900, 'eval_count': 31, 'eval_duration': 1906571000, 'model_name': 'qwen3:8b'}, id='run--658551ef-53fc-42fa-996f-8bd82f2df6d1-0', tool_calls=[{'name': 'cmd_exec_tool', 'args': {'cmd': 'md c:\\\\Users\\\\User\\\\Desktop\\\\NewFolder'}, 'id': '6aac3627-d51f-4890-a8d9-719384a57f7c', 'type': 'tool_call'}], usage_metadata={'input_tokens': 601, 'output_tokens': 31, 'total_tokens': 632})"
      ]
     },
     "execution_count": 79,
     "metadata": {},
     "output_type": "execute_result"
    }
   ],
   "source": [
    "res"
   ]
  },
  {
   "cell_type": "code",
   "execution_count": 80,
   "id": "945484fe",
   "metadata": {},
   "outputs": [
    {
     "data": {
      "text/plain": [
       "[{'name': 'cmd_exec_tool',\n",
       "  'args': {'cmd': 'md c:\\\\Users\\\\User\\\\Desktop\\\\NewFolder'},\n",
       "  'id': '6aac3627-d51f-4890-a8d9-719384a57f7c',\n",
       "  'type': 'tool_call'}]"
      ]
     },
     "execution_count": 80,
     "metadata": {},
     "output_type": "execute_result"
    }
   ],
   "source": [
    "res.tool_calls"
   ]
  },
  {
   "cell_type": "code",
   "execution_count": null,
   "id": "94b9192c",
   "metadata": {},
   "outputs": [
    {
     "name": "stdout",
     "output_type": "stream",
     "text": [
      "================================\u001b[1m System Message \u001b[0m================================\n",
      "\n",
      "You are an agent that solves user computer problems\n",
      "###Basic user system information:\n",
      "Username: User\n",
      "Language: pt_BR (some outputs may use this language but answer always in english)\n",
      "Operational system: Windows 64bit\n",
      "Terminal: C:\\\\Windows\\\\system32\\\\cmd.exe\n",
      "You are in the directory: c:\\\\Users\\\\User\\\\Desktop\\\\Projects_ML_WEB\\\\3-ComputerTaskChat\\\\V-2\\\\test (you can use cd commands to change it)\n",
      "\n",
      "You must work in a loop where every iteration you will receive the output of the previous iteration.\n",
      "You should use this iterations history to pick your next action\n",
      "Once the problem is solved or failed after many attempts do not pick any tool, instead just give a final answer.\n",
      "================================\u001b[1m Human Message \u001b[0m=================================\n",
      "\n",
      "Create a folder in my desktop\n"
     ]
    }
   ],
   "source": [
    "print_msgs(prompt)"
   ]
  },
  {
   "cell_type": "code",
   "execution_count": 82,
   "id": "aa05300d",
   "metadata": {},
   "outputs": [],
   "source": [
    "state_['agent_response'] = res"
   ]
  },
  {
   "cell_type": "code",
   "execution_count": 33,
   "id": "5a98661a",
   "metadata": {},
   "outputs": [],
   "source": [
    "def tool_condition(state:State) -> Literal['execute_action','__end__']:\n",
    "    agent_response = state['agent_response']\n",
    "\n",
    "    if hasattr(agent_response,'tool_calls') and len(agent_response.tool_calls) > 0:\n",
    "        return 'execute_action'\n",
    "    \n",
    "    return '__end__'"
   ]
  },
  {
   "cell_type": "code",
   "execution_count": 84,
   "id": "55c6706d",
   "metadata": {},
   "outputs": [
    {
     "data": {
      "text/plain": [
       "'execute_action'"
      ]
     },
     "execution_count": 84,
     "metadata": {},
     "output_type": "execute_result"
    }
   ],
   "source": [
    "tool_condition(state_)"
   ]
  },
  {
   "cell_type": "code",
   "execution_count": null,
   "id": "41bcf478",
   "metadata": {},
   "outputs": [],
   "source": []
  },
  {
   "cell_type": "code",
   "execution_count": 34,
   "id": "28f68643",
   "metadata": {},
   "outputs": [],
   "source": [
    "def execute_action_node(state:State):\n",
    "    agent_response = state['agent_response']\n",
    "    scratchpad = state['scratchpad'].copy()\n",
    "    \n",
    "    for tool_call in agent_response.tool_calls:\n",
    "        tool_name = tool_call['name']\n",
    "        tool_args = tool_call['args']\n",
    "        tool = tools_dict.get(tool_name,None)\n",
    "        if tool:\n",
    "            tool_response = tool.invoke(tool_args)\n",
    "\n",
    "            ai_msg = AIMessage(content=(\n",
    "                f'Action: {tool_name}\\n'\n",
    "                f'Action Input: {list(tool_args.values())[0]}\\n'\n",
    "                ))\n",
    "            tool_msg = ToolMessage(content=tool_response,tool_call_id=tool_call['id'])\n",
    "\n",
    "            scratchpad += [ai_msg,tool_msg]\n",
    "\n",
    "            # scratchpad += (f'\\n\\n###Action: {tool_name}\\n'\n",
    "            #                f'{list(tool_args.values())[0]}\\n'\n",
    "            #                f'###Response\\n{tool_response}')\n",
    "            \n",
    "    return scratchpad#.strip()"
   ]
  },
  {
   "cell_type": "code",
   "execution_count": null,
   "id": "ac9f858f",
   "metadata": {},
   "outputs": [],
   "source": [
    "state_['scratchpad'] = []"
   ]
  },
  {
   "cell_type": "code",
   "execution_count": 86,
   "id": "4e5c8279",
   "metadata": {},
   "outputs": [],
   "source": [
    "scratchpad = execute_action_node(state_)"
   ]
  },
  {
   "cell_type": "code",
   "execution_count": 89,
   "id": "9be9457b",
   "metadata": {},
   "outputs": [
    {
     "name": "stdout",
     "output_type": "stream",
     "text": [
      "==================================\u001b[1m Ai Message \u001b[0m==================================\n",
      "\n",
      "Action: cmd_exec_tool\n",
      "Action Input: md c:\\Users\\User\\Desktop\\NewFolder\n",
      "=================================\u001b[1m Tool Message \u001b[0m=================================\n",
      "\n",
      "success\n"
     ]
    }
   ],
   "source": [
    "print_msgs(scratchpad)"
   ]
  },
  {
   "cell_type": "code",
   "execution_count": 91,
   "id": "43fe8d63",
   "metadata": {},
   "outputs": [],
   "source": [
    "state_['scratchpad'] = scratchpad"
   ]
  },
  {
   "cell_type": "code",
   "execution_count": null,
   "id": "e3f5804a",
   "metadata": {},
   "outputs": [],
   "source": []
  },
  {
   "cell_type": "markdown",
   "id": "ac6c4aec",
   "metadata": {},
   "source": [
    "<h1>Simulating the graph flow one by one</h1>\n",
    "<h2>Iteration 1</h2>"
   ]
  },
  {
   "cell_type": "code",
   "execution_count": 39,
   "id": "93d878af",
   "metadata": {},
   "outputs": [],
   "source": [
    "#state_ = get_initial_state(user_input='Write a pdf in my desktop explaining about generative AI in one paragraph.')\n",
    "state_ = get_initial_state(user_input='Create a folder called Start on my desktop.')"
   ]
  },
  {
   "cell_type": "code",
   "execution_count": 40,
   "id": "f3bec128",
   "metadata": {},
   "outputs": [],
   "source": [
    "res,prompt=agent_node(state_)\n",
    "state_['agent_response'] =res"
   ]
  },
  {
   "cell_type": "code",
   "execution_count": 41,
   "id": "850795d1",
   "metadata": {},
   "outputs": [
    {
     "data": {
      "text/plain": [
       "[{'name': 'cmd_exec_tool',\n",
       "  'args': {'cmd': 'mkdir C:\\\\Users\\\\User\\\\Desktop\\\\Start'},\n",
       "  'id': '677f9cc0-077a-41b3-910a-1e481124ead8',\n",
       "  'type': 'tool_call'}]"
      ]
     },
     "execution_count": 41,
     "metadata": {},
     "output_type": "execute_result"
    }
   ],
   "source": [
    "res.tool_calls"
   ]
  },
  {
   "cell_type": "code",
   "execution_count": 18,
   "id": "1d922480",
   "metadata": {},
   "outputs": [
    {
     "name": "stdout",
     "output_type": "stream",
     "text": [
      "import os\n",
      "def generate_pdf():\n",
      "\tfrom fpdf import FPDF\n",
      "\t\n",
      "\t# Create a PDF object\n",
      "\tpdf = FPDF()\n",
      "\t\n",
      "\t# Add a page\n",
      "\tpdf.add_page()\n",
      "\t\n",
      "\t# Set font\n",
      "\tpdf.set_font(\"Arial\", size=12)\n",
      "\t\n",
      "\t# Add a paragraph about generative AI\n",
      "\tpdf.multi_cell(0, 10, \"Generative AI refers to artificial intelligence systems that can create new content, such as text, images, audio, and video, based on patterns learned from existing data. These systems are powered by advanced machine learning algorithms, particularly deep learning models like neural networks, which enable them to generate highly realistic and contextually relevant outputs. Generative AI has a wide range of applications, including content creation, design, entertainment, and research, and it continues to evolve with ongoing advancements in technology.\")\n",
      "\t\n",
      "\t# Save the PDF to the desktop\n",
      "\tpdf.output(\"C:\\\\Users\\\\User\\\\Desktop\\\\generative_ai.pdf\")\n",
      "\n",
      "\treturn_value = \"PDF created successfully on the desktop.\"\n",
      "\n",
      "generate_pdf()\n"
     ]
    }
   ],
   "source": [
    "print(res.tool_calls[0]['args']['python_code'])"
   ]
  },
  {
   "cell_type": "code",
   "execution_count": 19,
   "id": "5fc3e1d9",
   "metadata": {},
   "outputs": [
    {
     "name": "stdout",
     "output_type": "stream",
     "text": [
      "================================\u001b[1m System Message \u001b[0m================================\n",
      "\n",
      "You are an agent that solves user computer problems\n",
      "###Basic user system information:\n",
      "Username: User\n",
      "Language: pt_BR (some outputs may use this language but answer always in english)\n",
      "Operational system: Windows 64bit\n",
      "Terminal: C:\\\\Windows\\\\system32\\\\cmd.exe\n",
      "You are in the directory: c:\\\\Users\\\\User\\\\Desktop\\\\Projects_ML_WEB\\\\3-ComputerTaskChat\\\\V-2\\\\test (you can use cd commands to change it)\n",
      "\n",
      "You must work in a loop where every iteration you will receive the output of the previous iteration.\n",
      "You should use this iterations history to pick your next action\n",
      "Once the problem is solved or failed after many attempts do not pick any tool, instead just give a final answer.\n",
      "================================\u001b[1m Human Message \u001b[0m=================================\n",
      "\n",
      "Write a pdf in my desktop explaining about generative AI in one paragraph.\n"
     ]
    }
   ],
   "source": [
    "print_msgs(prompt)"
   ]
  },
  {
   "cell_type": "code",
   "execution_count": 20,
   "id": "5c88f737",
   "metadata": {},
   "outputs": [
    {
     "data": {
      "text/plain": [
       "'execute_action'"
      ]
     },
     "execution_count": 20,
     "metadata": {},
     "output_type": "execute_result"
    }
   ],
   "source": [
    "tool_condition(state_)"
   ]
  },
  {
   "cell_type": "code",
   "execution_count": 21,
   "id": "95fc25ce",
   "metadata": {},
   "outputs": [],
   "source": [
    "scratchpad = execute_action_node(state_)\n",
    "state_['scratchpad'] = scratchpad"
   ]
  },
  {
   "cell_type": "code",
   "execution_count": 22,
   "id": "2d2e5685",
   "metadata": {},
   "outputs": [
    {
     "name": "stdout",
     "output_type": "stream",
     "text": [
      "==================================\u001b[1m Ai Message \u001b[0m==================================\n",
      "\n",
      "Action: run_python_code_tool\n",
      "Action Input: import os\n",
      "def generate_pdf():\n",
      "\tfrom fpdf import FPDF\n",
      "\t\n",
      "\t# Create a PDF object\n",
      "\tpdf = FPDF()\n",
      "\t\n",
      "\t# Add a page\n",
      "\tpdf.add_page()\n",
      "\t\n",
      "\t# Set font\n",
      "\tpdf.set_font(\"Arial\", size=12)\n",
      "\t\n",
      "\t# Add a paragraph about generative AI\n",
      "\tpdf.multi_cell(0, 10, \"Generative AI refers to artificial intelligence systems that can create new content, such as text, images, audio, and video, based on patterns learned from existing data. These systems are powered by advanced machine learning algorithms, particularly deep learning models like neural networks, which enable them to generate highly realistic and contextually relevant outputs. Generative AI has a wide range of applications, including content creation, design, entertainment, and research, and it continues to evolve with ongoing advancements in technology.\")\n",
      "\t\n",
      "\t# Save the PDF to the desktop\n",
      "\tpdf.output(\"C:\\\\Users\\\\User\\\\Desktop\\\\generative_ai.pdf\")\n",
      "\n",
      "\treturn_value = \"PDF created successfully on the desktop.\"\n",
      "\n",
      "generate_pdf()\n",
      "=================================\u001b[1m Tool Message \u001b[0m=================================\n",
      "\n",
      "Success\n"
     ]
    }
   ],
   "source": [
    "print_msgs(scratchpad)"
   ]
  },
  {
   "cell_type": "code",
   "execution_count": null,
   "id": "c62dfc64",
   "metadata": {},
   "outputs": [],
   "source": []
  },
  {
   "cell_type": "markdown",
   "id": "f3ca23cd",
   "metadata": {},
   "source": [
    "<h2>Iteration 2</h2>"
   ]
  },
  {
   "cell_type": "code",
   "execution_count": 23,
   "id": "18247f5e",
   "metadata": {},
   "outputs": [],
   "source": [
    "res,prompt=agent_node(state_)\n",
    "state_['agent_response'] =res"
   ]
  },
  {
   "cell_type": "code",
   "execution_count": 24,
   "id": "9c0e947e",
   "metadata": {},
   "outputs": [
    {
     "data": {
      "text/plain": [
       "[]"
      ]
     },
     "execution_count": 24,
     "metadata": {},
     "output_type": "execute_result"
    }
   ],
   "source": [
    "res.tool_calls"
   ]
  },
  {
   "cell_type": "code",
   "execution_count": 26,
   "id": "21bba4a0",
   "metadata": {},
   "outputs": [
    {
     "name": "stdout",
     "output_type": "stream",
     "text": [
      "The PDF explaining about generative AI has been successfully created on your desktop. You can find it at `C:\\\\Users\\\\User\\\\Desktop\\\\generative_ai.pdf`. Let me know if you need anything else!\n"
     ]
    }
   ],
   "source": [
    "print(res.content)"
   ]
  },
  {
   "cell_type": "code",
   "execution_count": 27,
   "id": "bd89271f",
   "metadata": {},
   "outputs": [
    {
     "name": "stdout",
     "output_type": "stream",
     "text": [
      "================================\u001b[1m System Message \u001b[0m================================\n",
      "\n",
      "You are an agent that solves user computer problems\n",
      "###Basic user system information:\n",
      "Username: User\n",
      "Language: pt_BR (some outputs may use this language but answer always in english)\n",
      "Operational system: Windows 64bit\n",
      "Terminal: C:\\\\Windows\\\\system32\\\\cmd.exe\n",
      "You are in the directory: c:\\\\Users\\\\User\\\\Desktop\\\\Projects_ML_WEB\\\\3-ComputerTaskChat\\\\V-2\\\\test (you can use cd commands to change it)\n",
      "\n",
      "You must work in a loop where every iteration you will receive the output of the previous iteration.\n",
      "You should use this iterations history to pick your next action\n",
      "Once the problem is solved or failed after many attempts do not pick any tool, instead just give a final answer.\n",
      "================================\u001b[1m Human Message \u001b[0m=================================\n",
      "\n",
      "Write a pdf in my desktop explaining about generative AI in one paragraph.\n",
      "==================================\u001b[1m Ai Message \u001b[0m==================================\n",
      "\n",
      "Action: run_python_code_tool\n",
      "Action Input: import os\n",
      "def generate_pdf():\n",
      "\tfrom fpdf import FPDF\n",
      "\t\n",
      "\t# Create a PDF object\n",
      "\tpdf = FPDF()\n",
      "\t\n",
      "\t# Add a page\n",
      "\tpdf.add_page()\n",
      "\t\n",
      "\t# Set font\n",
      "\tpdf.set_font(\"Arial\", size=12)\n",
      "\t\n",
      "\t# Add a paragraph about generative AI\n",
      "\tpdf.multi_cell(0, 10, \"Generative AI refers to artificial intelligence systems that can create new content, such as text, images, audio, and video, based on patterns learned from existing data. These systems are powered by advanced machine learning algorithms, particularly deep learning models like neural networks, which enable them to generate highly realistic and contextually relevant outputs. Generative AI has a wide range of applications, including content creation, design, entertainment, and research, and it continues to evolve with ongoing advancements in technology.\")\n",
      "\t\n",
      "\t# Save the PDF to the desktop\n",
      "\tpdf.output(\"C:\\\\Users\\\\User\\\\Desktop\\\\generative_ai.pdf\")\n",
      "\n",
      "\treturn_value = \"PDF created successfully on the desktop.\"\n",
      "\n",
      "generate_pdf()\n",
      "=================================\u001b[1m Tool Message \u001b[0m=================================\n",
      "\n",
      "Success\n"
     ]
    }
   ],
   "source": [
    "print_msgs(prompt)"
   ]
  },
  {
   "cell_type": "code",
   "execution_count": 28,
   "id": "a567fde3",
   "metadata": {},
   "outputs": [
    {
     "data": {
      "text/plain": [
       "'__end__'"
      ]
     },
     "execution_count": 28,
     "metadata": {},
     "output_type": "execute_result"
    }
   ],
   "source": [
    "tool_condition(state_)"
   ]
  },
  {
   "cell_type": "code",
   "execution_count": null,
   "id": "498e2498",
   "metadata": {},
   "outputs": [],
   "source": []
  },
  {
   "cell_type": "code",
   "execution_count": null,
   "id": "d1aee3c3",
   "metadata": {},
   "outputs": [],
   "source": []
  },
  {
   "cell_type": "code",
   "execution_count": null,
   "id": "4f57f145",
   "metadata": {},
   "outputs": [],
   "source": []
  }
 ],
 "metadata": {
  "kernelspec": {
   "display_name": "ml_web_env",
   "language": "python",
   "name": "python3"
  },
  "language_info": {
   "codemirror_mode": {
    "name": "ipython",
    "version": 3
   },
   "file_extension": ".py",
   "mimetype": "text/x-python",
   "name": "python",
   "nbconvert_exporter": "python",
   "pygments_lexer": "ipython3",
   "version": "3.11.13"
  }
 },
 "nbformat": 4,
 "nbformat_minor": 5
}
